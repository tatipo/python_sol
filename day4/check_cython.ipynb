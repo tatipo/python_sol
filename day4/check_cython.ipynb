{
 "cells": [
  {
   "cell_type": "code",
   "execution_count": 2,
   "id": "binding-voluntary",
   "metadata": {},
   "outputs": [],
   "source": [
    "import primes"
   ]
  },
  {
   "cell_type": "code",
   "execution_count": 3,
   "id": "norwegian-companion",
   "metadata": {},
   "outputs": [],
   "source": [
    "import cy_primes"
   ]
  },
  {
   "cell_type": "code",
   "execution_count": 4,
   "id": "driving-parameter",
   "metadata": {},
   "outputs": [
    {
     "name": "stdout",
     "output_type": "stream",
     "text": [
      "766 ms ± 70.2 ms per loop (mean ± std. dev. of 7 runs, 1 loop each)\n"
     ]
    }
   ],
   "source": [
    "%timeit primes.primes(2000)"
   ]
  },
  {
   "cell_type": "code",
   "execution_count": 5,
   "id": "immediate-japanese",
   "metadata": {},
   "outputs": [
    {
     "name": "stdout",
     "output_type": "stream",
     "text": [
      "1.96 ms ± 99.2 µs per loop (mean ± std. dev. of 7 runs, 100 loops each)\n"
     ]
    }
   ],
   "source": [
    "%timeit cy_primes.primes(2000)"
   ]
  },
  {
   "cell_type": "code",
   "execution_count": 6,
   "id": "hispanic-richardson",
   "metadata": {},
   "outputs": [],
   "source": [
    "from math import exp\n",
    "import numpy as np\n",
    "\n",
    "def rbf_network(X, beta, theta):\n",
    "\n",
    "    N = X.shape[0]\n",
    "    D = X.shape[1]\n",
    "    Y = np.zeros(N)\n",
    "\n",
    "    for i in range(N):\n",
    "        for j in range(N):\n",
    "            r = 0\n",
    "            for d in range(D):\n",
    "                r += (X[j, d] - X[i, d]) ** 2\n",
    "            r = r**0.5\n",
    "            Y[i] += beta[j] * exp(-(r * theta)**2)\n",
    "\n",
    "    return Y"
   ]
  },
  {
   "cell_type": "code",
   "execution_count": 7,
   "id": "literary-strengthening",
   "metadata": {},
   "outputs": [],
   "source": [
    "import numpy as np\n",
    "D = 5\n",
    "N = 1000\n",
    "X = np.array([np.random.rand(N) for d in range(D)]).T\n",
    "beta = np.random.rand(N)\n",
    "theta = 10"
   ]
  },
  {
   "cell_type": "code",
   "execution_count": 8,
   "id": "conditional-cambodia",
   "metadata": {},
   "outputs": [
    {
     "name": "stdout",
     "output_type": "stream",
     "text": [
      "15.2 s ± 1.16 s per loop (mean ± std. dev. of 7 runs, 1 loop each)\n"
     ]
    }
   ],
   "source": [
    "%timeit rbf_network(X, beta, theta)"
   ]
  },
  {
   "cell_type": "code",
   "execution_count": 9,
   "id": "renewable-spell",
   "metadata": {},
   "outputs": [],
   "source": [
    "from scipy.interpolate import Rbf\n",
    "rbf = Rbf(X[:,0], X[:,1], X[:,2], X[:,3], X[:, 4], np.random.rand(N))\n",
    "Xtuple = tuple([X[:, i] for i in range(D)])"
   ]
  },
  {
   "cell_type": "code",
   "execution_count": 10,
   "id": "irish-leeds",
   "metadata": {},
   "outputs": [
    {
     "name": "stdout",
     "output_type": "stream",
     "text": [
      "85.1 ns ± 1.31 ns per loop (mean ± std. dev. of 7 runs, 10000000 loops each)\n"
     ]
    }
   ],
   "source": [
    "%timeit rbf"
   ]
  },
  {
   "cell_type": "code",
   "execution_count": 11,
   "id": "fiscal-hindu",
   "metadata": {},
   "outputs": [
    {
     "name": "stdout",
     "output_type": "stream",
     "text": [
      "362 ms ± 20.9 ms per loop (mean ± std. dev. of 7 runs, 1 loop each)\n"
     ]
    }
   ],
   "source": [
    "from fastloop import rbf_network\n",
    "%timeit rbf_network(X, beta, theta)\n"
   ]
  },
  {
   "cell_type": "code",
   "execution_count": null,
   "id": "cross-ottawa",
   "metadata": {},
   "outputs": [],
   "source": []
  },
  {
   "cell_type": "code",
   "execution_count": null,
   "id": "according-adolescent",
   "metadata": {},
   "outputs": [],
   "source": []
  }
 ],
 "metadata": {
  "kernelspec": {
   "display_name": "Python 3",
   "language": "python",
   "name": "python3"
  },
  "language_info": {
   "codemirror_mode": {
    "name": "ipython",
    "version": 3
   },
   "file_extension": ".py",
   "mimetype": "text/x-python",
   "name": "python",
   "nbconvert_exporter": "python",
   "pygments_lexer": "ipython3",
   "version": "3.8.5"
  }
 },
 "nbformat": 4,
 "nbformat_minor": 5
}
