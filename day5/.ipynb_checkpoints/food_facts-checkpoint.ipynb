{
 "cells": [
  {
   "cell_type": "markdown",
   "metadata": {},
   "source": [
    "# Exercise 1"
   ]
  },
  {
   "cell_type": "markdown",
   "metadata": {},
   "source": [
    "### Step 1. Go to https://www.kaggle.com/openfoodfacts/world-food-facts/data"
   ]
  },
  {
   "cell_type": "markdown",
   "metadata": {},
   "source": [
    "### Step 2. Download the dataset to your computer and unzip it."
   ]
  },
  {
   "cell_type": "markdown",
   "metadata": {},
   "source": [
    "### Step 3. Use the tsv file and assign it to a dataframe called food"
   ]
  },
  {
   "cell_type": "code",
   "execution_count": 1,
   "metadata": {},
   "outputs": [
    {
     "name": "stderr",
     "output_type": "stream",
     "text": [
      "/home/hase/.local/lib/python3.8/site-packages/IPython/core/interactiveshell.py:3155: DtypeWarning: Columns (0,3,5,19,20,24,25,26,27,28,36,37,38,39,48) have mixed types.Specify dtype option on import or set low_memory=False.\n",
      "  has_raised = await self.run_ast_nodes(code_ast.body, cell_name,\n"
     ]
    }
   ],
   "source": [
    "import pandas\n",
    "\n",
    "food=pandas.read_csv('en.openfoodfacts.org.products.tsv', sep='\\t')\n"
   ]
  },
  {
   "cell_type": "markdown",
   "metadata": {},
   "source": [
    "### Step 4. See the first 5 entries"
   ]
  },
  {
   "cell_type": "code",
   "execution_count": 12,
   "metadata": {},
   "outputs": [
    {
     "name": "stdout",
     "output_type": "stream",
     "text": [
      "    code                                                url  \\\n",
      "0   3087  http://world-en.openfoodfacts.org/product/0000...   \n",
      "1   4530  http://world-en.openfoodfacts.org/product/0000...   \n",
      "2   4559  http://world-en.openfoodfacts.org/product/0000...   \n",
      "3  16087  http://world-en.openfoodfacts.org/product/0000...   \n",
      "4  16094  http://world-en.openfoodfacts.org/product/0000...   \n",
      "\n",
      "                      creator   created_t      created_datetime  \\\n",
      "0  openfoodfacts-contributors  1474103866  2016-09-17T09:17:46Z   \n",
      "1             usda-ndb-import  1489069957  2017-03-09T14:32:37Z   \n",
      "2             usda-ndb-import  1489069957  2017-03-09T14:32:37Z   \n",
      "3             usda-ndb-import  1489055731  2017-03-09T10:35:31Z   \n",
      "4             usda-ndb-import  1489055653  2017-03-09T10:34:13Z   \n",
      "\n",
      "  last_modified_t last_modified_datetime                    product_name  \\\n",
      "0      1474103893   2016-09-17T09:18:13Z              Farine de blé noir   \n",
      "1      1489069957   2017-03-09T14:32:37Z  Banana Chips Sweetened (Whole)   \n",
      "2      1489069957   2017-03-09T14:32:37Z                         Peanuts   \n",
      "3      1489055731   2017-03-09T10:35:31Z          Organic Salted Nut Mix   \n",
      "4      1489055653   2017-03-09T10:34:13Z                 Organic Polenta   \n",
      "\n",
      "  generic_name quantity  ... fruits-vegetables-nuts_100g  \\\n",
      "0          NaN      1kg  ...                         NaN   \n",
      "1          NaN      NaN  ...                         NaN   \n",
      "2          NaN      NaN  ...                         NaN   \n",
      "3          NaN      NaN  ...                         NaN   \n",
      "4          NaN      NaN  ...                         NaN   \n",
      "\n",
      "  fruits-vegetables-nuts-estimate_100g collagen-meat-protein-ratio_100g  \\\n",
      "0                                  NaN                              NaN   \n",
      "1                                  NaN                              NaN   \n",
      "2                                  NaN                              NaN   \n",
      "3                                  NaN                              NaN   \n",
      "4                                  NaN                              NaN   \n",
      "\n",
      "  cocoa_100g chlorophyl_100g carbon-footprint_100g nutrition-score-fr_100g  \\\n",
      "0        NaN             NaN                   NaN                     NaN   \n",
      "1        NaN             NaN                   NaN                    14.0   \n",
      "2        NaN             NaN                   NaN                     0.0   \n",
      "3        NaN             NaN                   NaN                    12.0   \n",
      "4        NaN             NaN                   NaN                     NaN   \n",
      "\n",
      "  nutrition-score-uk_100g glycemic-index_100g water-hardness_100g  \n",
      "0                     NaN                 NaN                 NaN  \n",
      "1                    14.0                 NaN                 NaN  \n",
      "2                     0.0                 NaN                 NaN  \n",
      "3                    12.0                 NaN                 NaN  \n",
      "4                     NaN                 NaN                 NaN  \n",
      "\n",
      "[5 rows x 163 columns]\n"
     ]
    }
   ],
   "source": [
    "nsize=food.shape\n",
    "\n",
    "f5=food[0:5]\n",
    "print(f5)"
   ]
  },
  {
   "cell_type": "markdown",
   "metadata": {},
   "source": [
    "### Step 5. What is the number of observations in the dataset?"
   ]
  },
  {
   "cell_type": "code",
   "execution_count": 17,
   "metadata": {},
   "outputs": [
    {
     "name": "stdout",
     "output_type": "stream",
     "text": [
      "Number of observations is 356027\n"
     ]
    }
   ],
   "source": [
    "print('Number of observations is %i' %(nsize[0]))\n"
   ]
  },
  {
   "cell_type": "markdown",
   "metadata": {},
   "source": [
    "### Step 6. What is the number of columns in the dataset?"
   ]
  },
  {
   "cell_type": "code",
   "execution_count": 18,
   "metadata": {},
   "outputs": [
    {
     "name": "stdout",
     "output_type": "stream",
     "text": [
      "Number of columns is 163\n"
     ]
    }
   ],
   "source": [
    "print('Number of columns is %i' %(nsize[1]))"
   ]
  },
  {
   "cell_type": "markdown",
   "metadata": {},
   "source": [
    "### Step 7. Print the name of all the columns."
   ]
  },
  {
   "cell_type": "code",
   "execution_count": 20,
   "metadata": {},
   "outputs": [
    {
     "name": "stdout",
     "output_type": "stream",
     "text": [
      "Column name: code\n",
      "Column name: url\n",
      "Column name: creator\n",
      "Column name: created_t\n",
      "Column name: created_datetime\n",
      "Column name: last_modified_t\n",
      "Column name: last_modified_datetime\n",
      "Column name: product_name\n",
      "Column name: generic_name\n",
      "Column name: quantity\n",
      "Column name: packaging\n",
      "Column name: packaging_tags\n",
      "Column name: brands\n",
      "Column name: brands_tags\n",
      "Column name: categories\n",
      "Column name: categories_tags\n",
      "Column name: categories_en\n",
      "Column name: origins\n",
      "Column name: origins_tags\n",
      "Column name: manufacturing_places\n",
      "Column name: manufacturing_places_tags\n",
      "Column name: labels\n",
      "Column name: labels_tags\n",
      "Column name: labels_en\n",
      "Column name: emb_codes\n",
      "Column name: emb_codes_tags\n",
      "Column name: first_packaging_code_geo\n",
      "Column name: cities\n",
      "Column name: cities_tags\n",
      "Column name: purchase_places\n",
      "Column name: stores\n",
      "Column name: countries\n",
      "Column name: countries_tags\n",
      "Column name: countries_en\n",
      "Column name: ingredients_text\n",
      "Column name: allergens\n",
      "Column name: allergens_en\n",
      "Column name: traces\n",
      "Column name: traces_tags\n",
      "Column name: traces_en\n",
      "Column name: serving_size\n",
      "Column name: no_nutriments\n",
      "Column name: additives_n\n",
      "Column name: additives\n",
      "Column name: additives_tags\n",
      "Column name: additives_en\n",
      "Column name: ingredients_from_palm_oil_n\n",
      "Column name: ingredients_from_palm_oil\n",
      "Column name: ingredients_from_palm_oil_tags\n",
      "Column name: ingredients_that_may_be_from_palm_oil_n\n",
      "Column name: ingredients_that_may_be_from_palm_oil\n",
      "Column name: ingredients_that_may_be_from_palm_oil_tags\n",
      "Column name: nutrition_grade_uk\n",
      "Column name: nutrition_grade_fr\n",
      "Column name: pnns_groups_1\n",
      "Column name: pnns_groups_2\n",
      "Column name: states\n",
      "Column name: states_tags\n",
      "Column name: states_en\n",
      "Column name: main_category\n",
      "Column name: main_category_en\n",
      "Column name: image_url\n",
      "Column name: image_small_url\n",
      "Column name: energy_100g\n",
      "Column name: energy-from-fat_100g\n",
      "Column name: fat_100g\n",
      "Column name: saturated-fat_100g\n",
      "Column name: -butyric-acid_100g\n",
      "Column name: -caproic-acid_100g\n",
      "Column name: -caprylic-acid_100g\n",
      "Column name: -capric-acid_100g\n",
      "Column name: -lauric-acid_100g\n",
      "Column name: -myristic-acid_100g\n",
      "Column name: -palmitic-acid_100g\n",
      "Column name: -stearic-acid_100g\n",
      "Column name: -arachidic-acid_100g\n",
      "Column name: -behenic-acid_100g\n",
      "Column name: -lignoceric-acid_100g\n",
      "Column name: -cerotic-acid_100g\n",
      "Column name: -montanic-acid_100g\n",
      "Column name: -melissic-acid_100g\n",
      "Column name: monounsaturated-fat_100g\n",
      "Column name: polyunsaturated-fat_100g\n",
      "Column name: omega-3-fat_100g\n",
      "Column name: -alpha-linolenic-acid_100g\n",
      "Column name: -eicosapentaenoic-acid_100g\n",
      "Column name: -docosahexaenoic-acid_100g\n",
      "Column name: omega-6-fat_100g\n",
      "Column name: -linoleic-acid_100g\n",
      "Column name: -arachidonic-acid_100g\n",
      "Column name: -gamma-linolenic-acid_100g\n",
      "Column name: -dihomo-gamma-linolenic-acid_100g\n",
      "Column name: omega-9-fat_100g\n",
      "Column name: -oleic-acid_100g\n",
      "Column name: -elaidic-acid_100g\n",
      "Column name: -gondoic-acid_100g\n",
      "Column name: -mead-acid_100g\n",
      "Column name: -erucic-acid_100g\n",
      "Column name: -nervonic-acid_100g\n",
      "Column name: trans-fat_100g\n",
      "Column name: cholesterol_100g\n",
      "Column name: carbohydrates_100g\n",
      "Column name: sugars_100g\n",
      "Column name: -sucrose_100g\n",
      "Column name: -glucose_100g\n",
      "Column name: -fructose_100g\n",
      "Column name: -lactose_100g\n",
      "Column name: -maltose_100g\n",
      "Column name: -maltodextrins_100g\n",
      "Column name: starch_100g\n",
      "Column name: polyols_100g\n",
      "Column name: fiber_100g\n",
      "Column name: proteins_100g\n",
      "Column name: casein_100g\n",
      "Column name: serum-proteins_100g\n",
      "Column name: nucleotides_100g\n",
      "Column name: salt_100g\n",
      "Column name: sodium_100g\n",
      "Column name: alcohol_100g\n",
      "Column name: vitamin-a_100g\n",
      "Column name: beta-carotene_100g\n",
      "Column name: vitamin-d_100g\n",
      "Column name: vitamin-e_100g\n",
      "Column name: vitamin-k_100g\n",
      "Column name: vitamin-c_100g\n",
      "Column name: vitamin-b1_100g\n",
      "Column name: vitamin-b2_100g\n",
      "Column name: vitamin-pp_100g\n",
      "Column name: vitamin-b6_100g\n",
      "Column name: vitamin-b9_100g\n",
      "Column name: folates_100g\n",
      "Column name: vitamin-b12_100g\n",
      "Column name: biotin_100g\n",
      "Column name: pantothenic-acid_100g\n",
      "Column name: silica_100g\n",
      "Column name: bicarbonate_100g\n",
      "Column name: potassium_100g\n",
      "Column name: chloride_100g\n",
      "Column name: calcium_100g\n",
      "Column name: phosphorus_100g\n",
      "Column name: iron_100g\n",
      "Column name: magnesium_100g\n",
      "Column name: zinc_100g\n",
      "Column name: copper_100g\n",
      "Column name: manganese_100g\n",
      "Column name: fluoride_100g\n",
      "Column name: selenium_100g\n",
      "Column name: chromium_100g\n",
      "Column name: molybdenum_100g\n",
      "Column name: iodine_100g\n",
      "Column name: caffeine_100g\n",
      "Column name: taurine_100g\n",
      "Column name: ph_100g\n",
      "Column name: fruits-vegetables-nuts_100g\n",
      "Column name: fruits-vegetables-nuts-estimate_100g\n",
      "Column name: collagen-meat-protein-ratio_100g\n",
      "Column name: cocoa_100g\n",
      "Column name: chlorophyl_100g\n",
      "Column name: carbon-footprint_100g\n",
      "Column name: nutrition-score-fr_100g\n",
      "Column name: nutrition-score-uk_100g\n",
      "Column name: glycemic-index_100g\n",
      "Column name: water-hardness_100g\n"
     ]
    }
   ],
   "source": [
    "for ic in food.columns:\n",
    "    print('Column name:',ic)"
   ]
  },
  {
   "cell_type": "markdown",
   "metadata": {},
   "source": [
    "### Step 8. What is the name of 105th column?"
   ]
  },
  {
   "cell_type": "code",
   "execution_count": 25,
   "metadata": {},
   "outputs": [
    {
     "name": "stdout",
     "output_type": "stream",
     "text": [
      "105th column's name is  -glucose_100g\n"
     ]
    }
   ],
   "source": [
    "f105=food.columns[104]\n",
    "print(\"105th column's name is \",f105)"
   ]
  },
  {
   "cell_type": "markdown",
   "metadata": {},
   "source": [
    "### Step 9. What is the type of the observations of the 105th column?"
   ]
  },
  {
   "cell_type": "code",
   "execution_count": 31,
   "metadata": {},
   "outputs": [
    {
     "name": "stdout",
     "output_type": "stream",
     "text": [
      "105th column's type of observation is  float64\n"
     ]
    }
   ],
   "source": [
    "rf105=food[f105].dtypes\n",
    "print(\"105th column's type of observation is \",rf105)"
   ]
  },
  {
   "cell_type": "markdown",
   "metadata": {},
   "source": [
    "### Step 10. How is the dataset indexed?"
   ]
  },
  {
   "cell_type": "code",
   "execution_count": 32,
   "metadata": {},
   "outputs": [
    {
     "name": "stdout",
     "output_type": "stream",
     "text": [
      "The dataset is indexed as  RangeIndex(start=0, stop=356027, step=1)\n"
     ]
    }
   ],
   "source": [
    "findx=food.index\n",
    "print(\"The dataset is indexed as \",findx)"
   ]
  },
  {
   "cell_type": "markdown",
   "metadata": {},
   "source": [
    "### Step 11. What is the product name of the 19th observation?"
   ]
  },
  {
   "cell_type": "code",
   "execution_count": 33,
   "metadata": {},
   "outputs": [
    {
     "name": "stdout",
     "output_type": "stream",
     "text": [
      "Product name of 19th observation is  Lotus Organic Brown Jasmine Rice\n"
     ]
    }
   ],
   "source": [
    "pf=food['product_name']\n",
    "prod19=pf[18]\n",
    "print(\"Product name of 19th observation is \",prod19)"
   ]
  },
  {
   "cell_type": "code",
   "execution_count": null,
   "metadata": {},
   "outputs": [],
   "source": []
  }
 ],
 "metadata": {
  "anaconda-cloud": {},
  "kernelspec": {
   "display_name": "Python 3",
   "language": "python",
   "name": "python3"
  },
  "language_info": {
   "codemirror_mode": {
    "name": "ipython",
    "version": 3
   },
   "file_extension": ".py",
   "mimetype": "text/x-python",
   "name": "python",
   "nbconvert_exporter": "python",
   "pygments_lexer": "ipython3",
   "version": "3.8.5"
  }
 },
 "nbformat": 4,
 "nbformat_minor": 1
}
