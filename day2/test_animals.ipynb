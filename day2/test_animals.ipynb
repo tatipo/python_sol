{
 "cells": [
  {
   "cell_type": "code",
   "execution_count": 3,
   "id": "floppy-north",
   "metadata": {
    "scrolled": true
   },
   "outputs": [
    {
     "name": "stdout",
     "output_type": "stream",
     "text": [
      "Printing members of the Mammals class\n",
      "\tTiger \n",
      "\tElephant \n",
      "\tWild Cat \n",
      "Printing members of the Birds class\n",
      "\tSparrow \n",
      "\tRobin \n",
      "\tDuck \n",
      "Printing members of the Fish class\n",
      "\tGoldie \n",
      "\tCarp \n",
      "\tHerring \n"
     ]
    }
   ],
   "source": [
    "# Import classes from your brand new package\n",
    "from animals import Mammals\n",
    "from animals import Birds\n",
    "from animals import Fish\n",
    "\n",
    "# Create an object of Mammals class & call a method of it\n",
    "myMammal = Mammals()\n",
    "myMammal.printMembers()\n",
    "# Create an object of Birds class & call a method of it\n",
    "myBird = Birds()\n",
    "myBird.printMembers()\n",
    "# fish\n",
    "myFish = Fish()\n",
    "myFish.printMembers()"
   ]
  },
  {
   "cell_type": "code",
   "execution_count": 4,
   "id": "english-sailing",
   "metadata": {},
   "outputs": [
    {
     "name": "stdout",
     "output_type": "stream",
     "text": [
      "Printing members of the Mammals class\n",
      "\tTiger \n",
      "\tElephant \n",
      "\tWild Cat \n",
      "Printing members of the Birds class\n",
      "\tSparrow \n",
      "\tRobin \n",
      "\tDuck \n",
      "Printing members of the Fish class\n",
      "\tGoldie \n",
      "\tCarp \n",
      "\tHerring \n"
     ]
    }
   ],
   "source": [
    "       import animals\n",
    "\n",
    "m = animals.Mammals()\n",
    "m.printMembers()\n",
    "\n",
    "b = animals.Birds()\n",
    "b.printMembers()\n",
    "\n",
    "f = animals.Fish()\n",
    "f.printMembers()"
   ]
  },
  {
   "cell_type": "code",
   "execution_count": null,
   "id": "cubic-courtesy",
   "metadata": {},
   "outputs": [],
   "source": []
  },
  {
   "cell_type": "code",
   "execution_count": null,
   "id": "muslim-triumph",
   "metadata": {},
   "outputs": [],
   "source": []
  }
 ],
 "metadata": {
  "kernelspec": {
   "display_name": "Python 3",
   "language": "python",
   "name": "python3"
  },
  "language_info": {
   "codemirror_mode": {
    "name": "ipython",
    "version": 3
   },
   "file_extension": ".py",
   "mimetype": "text/x-python",
   "name": "python",
   "nbconvert_exporter": "python",
   "pygments_lexer": "ipython3",
   "version": "3.8.5"
  }
 },
 "nbformat": 4,
 "nbformat_minor": 5
}
