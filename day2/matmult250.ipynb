{
 "cells": [
  {
   "cell_type": "code",
   "execution_count": 1,
   "id": "trained-envelope",
   "metadata": {},
   "outputs": [],
   "source": [
    "import numpy as np"
   ]
  },
  {
   "cell_type": "code",
   "execution_count": 2,
   "id": "north-antigua",
   "metadata": {},
   "outputs": [],
   "source": [
    "# Program to multiply two matrices using nested loops\n",
    "import random"
   ]
  },
  {
   "cell_type": "code",
   "execution_count": 3,
   "id": "local-missile",
   "metadata": {},
   "outputs": [],
   "source": [
    "N = 5"
   ]
  },
  {
   "cell_type": "code",
   "execution_count": 4,
   "id": "active-evening",
   "metadata": {},
   "outputs": [
    {
     "name": "stdout",
     "output_type": "stream",
     "text": [
      "5\n",
      "5\n",
      "[[27, 32, 6, 25, 11], [91, 69, 79, 79, 41], [21, 44, 87, 39, 76], [6, 54, 71, 62, 18], [65, 13, 26, 31, 100]]\n"
     ]
    }
   ],
   "source": [
    "# NxN matrix\n",
    "X = []\n",
    "for i in range(N):\n",
    "    X.append([random.randint(0,100) for r in range(N)])\n",
    "print(len(X))\n",
    "print(len(X[0]))\n",
    "print(X)"
   ]
  },
  {
   "cell_type": "code",
   "execution_count": 5,
   "id": "violent-jersey",
   "metadata": {},
   "outputs": [
    {
     "name": "stdout",
     "output_type": "stream",
     "text": [
      "(5, 5)\n",
      "[[86  9 55 60 97]\n",
      " [50 76 38 47 67]\n",
      " [60 84 79  1 97]\n",
      " [ 4 25 71 18 44]\n",
      " [12  7 20 83 49]]\n"
     ]
    }
   ],
   "source": [
    "Xn=np.random.randint(0,100, (N,N))\n",
    "print(Xn.shape)\n",
    "print(Xn)"
   ]
  },
  {
   "cell_type": "code",
   "execution_count": 6,
   "id": "married-palmer",
   "metadata": {},
   "outputs": [
    {
     "name": "stdout",
     "output_type": "stream",
     "text": [
      "5\n",
      "6\n",
      "[[30, 95, 44, 20, 99, 15], [26, 43, 81, 54, 41, 31], [15, 48, 69, 41, 8, 3], [52, 13, 74, 23, 64, 74], [59, 80, 38, 15, 34, 21]]\n"
     ]
    }
   ],
   "source": [
    "# Nx(N+1) matrix\n",
    "Y = []\n",
    "for i in range(N):\n",
    "    Y.append([random.randint(0,100) for r in range(N+1)])\n",
    "print(len(Y))\n",
    "print(len(Y[0]))\n",
    "print(Y)"
   ]
  },
  {
   "cell_type": "code",
   "execution_count": 7,
   "id": "prospective-tunisia",
   "metadata": {},
   "outputs": [
    {
     "name": "stdout",
     "output_type": "stream",
     "text": [
      "(5, 6)\n",
      "[[39 90 38 77 39 35]\n",
      " [86 36 95 78 89 60]\n",
      " [73  5 72 45 42 92]\n",
      " [81 99 45 96 81 16]\n",
      " [46 89 61 34 19 46]]\n"
     ]
    }
   ],
   "source": [
    "Yn=np.random.randint(0,100, (N,N+1))\n",
    "print(Yn.shape)\n",
    "print(Yn)"
   ]
  },
  {
   "cell_type": "code",
   "execution_count": 8,
   "id": "qualified-vatican",
   "metadata": {},
   "outputs": [
    {
     "name": "stdout",
     "output_type": "stream",
     "text": [
      "5\n",
      "6\n"
     ]
    }
   ],
   "source": [
    "# result is Nx(N+1)\n",
    "result = []\n",
    "for i in range(N):\n",
    "    result.append([0] * (N+1))\n",
    "    \n",
    "print(len(result))\n",
    "print(len(result[0]))"
   ]
  },
  {
   "cell_type": "code",
   "execution_count": 9,
   "id": "together-killing",
   "metadata": {},
   "outputs": [],
   "source": [
    "#resultn=np.zeros((N,N+1))\n",
    "#print(resultn.shape)"
   ]
  },
  {
   "cell_type": "code",
   "execution_count": 10,
   "id": "seventh-basin",
   "metadata": {},
   "outputs": [
    {
     "name": "stdout",
     "output_type": "stream",
     "text": [
      "[3681, 5434, 6462, 3254, 6007, 3496]\n",
      "[12236, 19711, 22448, 11217, 18920, 10448]\n",
      "[9591, 14650, 16265, 8400, 9659, 6422]\n",
      "[6935, 8546, 14809, 7643, 7956, 6943]\n",
      "[10190, 16385, 11801, 5281, 12560, 5850]\n",
      "5\n",
      "6\n"
     ]
    }
   ],
   "source": [
    "# iterate through rows of X\n",
    "for i in range(len(X)):\n",
    "    # iterate through columns of Y\n",
    "    for j in range(len(Y[0])):\n",
    "        # iterate through rows of Y\n",
    "        for k in range(len(Y)):\n",
    "            result[i][j] += X[i][k] * Y[k][j]\n",
    "\n",
    "for r in result:\n",
    "    print(r)\n",
    "    \n",
    "print(len(result))\n",
    "print(len(result[0]))   "
   ]
  },
  {
   "cell_type": "code",
   "execution_count": 11,
   "id": "greater-boating",
   "metadata": {},
   "outputs": [
    {
     "name": "stdout",
     "output_type": "stream",
     "text": [
      "[[17465 22912 16700 18857 13168 14032]\n",
      " [18149 18042 18058 18278 15390 13640]\n",
      " [19874 17551 21910 18121 15058 18886]\n",
      " [10971  7313 11133  8677  7657 10484]\n",
      " [11507 14010  9285 12004  9585  6262]]\n",
      "(5, 6)\n"
     ]
    }
   ],
   "source": [
    "resultn=np.matmul(Xn,Yn);\n",
    "print(resultn)\n",
    "print(resultn.shape)"
   ]
  },
  {
   "cell_type": "code",
   "execution_count": null,
   "id": "rotary-basketball",
   "metadata": {},
   "outputs": [],
   "source": []
  }
 ],
 "metadata": {
  "kernelspec": {
   "display_name": "Python 3",
   "language": "python",
   "name": "python3"
  },
  "language_info": {
   "codemirror_mode": {
    "name": "ipython",
    "version": 3
   },
   "file_extension": ".py",
   "mimetype": "text/x-python",
   "name": "python",
   "nbconvert_exporter": "python",
   "pygments_lexer": "ipython3",
   "version": "3.8.5"
  }
 },
 "nbformat": 4,
 "nbformat_minor": 5
}
