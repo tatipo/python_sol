{
 "cells": [
  {
   "cell_type": "code",
   "execution_count": 1,
   "id": "advised-death",
   "metadata": {},
   "outputs": [],
   "source": [
    "class Person(object):\n",
    "    def __init__(self,firstN,lastN):\n",
    "        self.firstN = firstN;\n",
    "        self.lastN = lastN;\n",
    "    def fullName(self):\n",
    "        fn = print('%s %s' % (self.firstN,self.lastN))\n",
    "        return fn      "
   ]
  },
  {
   "cell_type": "code",
   "execution_count": 2,
   "id": "shaped-evening",
   "metadata": {},
   "outputs": [
    {
     "name": "stdout",
     "output_type": "stream",
     "text": [
      "Tati Po\n"
     ]
    }
   ],
   "source": [
    "pers1 = Person('Tati','Po')\n",
    "pers1.fullName()"
   ]
  },
  {
   "cell_type": "code",
   "execution_count": 3,
   "id": "casual-graphic",
   "metadata": {},
   "outputs": [],
   "source": [
    "class Student(Person):\n",
    "    def __init__(self,firstN,lastN,subj):\n",
    "        Person.__init__(self,firstN,lastN)\n",
    "        self.subj = subj\n",
    "    def printNameSubj(self):\n",
    "        ps=print('%s %s, %s' % (self.firstN,self.lastN,self.subj))\n",
    "        return ps"
   ]
  },
  {
   "cell_type": "code",
   "execution_count": 4,
   "id": "difficult-anime",
   "metadata": {},
   "outputs": [
    {
     "name": "stdout",
     "output_type": "stream",
     "text": [
      "Henry Popsel, metaphysics\n"
     ]
    }
   ],
   "source": [
    "stud1 = Student('Henry','Popsel','metaphysics')\n",
    "stud1.printNameSubj()"
   ]
  },
  {
   "cell_type": "code",
   "execution_count": 6,
   "id": "nutritional-input",
   "metadata": {},
   "outputs": [],
   "source": [
    "class Teacher(Person):\n",
    "    def __init__(self,firstN,lastN,cours):\n",
    "        Person.__init__(self,firstN,lastN)\n",
    "        self.cours=cours\n",
    "    def printNameCours(self):\n",
    "        pc=print('%s %s, %s' % (self.firstN,self.lastN,self.cours))\n",
    "        return pc"
   ]
  },
  {
   "cell_type": "code",
   "execution_count": 7,
   "id": "lucky-statement",
   "metadata": {},
   "outputs": [
    {
     "name": "stdout",
     "output_type": "stream",
     "text": [
      "Bruce Lee, martial arts\n"
     ]
    }
   ],
   "source": [
    "teach1 = Teacher('Bruce','Lee','martial arts')\n",
    "teach1.printNameCours()"
   ]
  },
  {
   "cell_type": "code",
   "execution_count": null,
   "id": "changed-thousand",
   "metadata": {},
   "outputs": [],
   "source": []
  }
 ],
 "metadata": {
  "kernelspec": {
   "display_name": "Python 3",
   "language": "python",
   "name": "python3"
  },
  "language_info": {
   "codemirror_mode": {
    "name": "ipython",
    "version": 3
   },
   "file_extension": ".py",
   "mimetype": "text/x-python",
   "name": "python",
   "nbconvert_exporter": "python",
   "pygments_lexer": "ipython3",
   "version": "3.8.5"
  }
 },
 "nbformat": 4,
 "nbformat_minor": 5
}
