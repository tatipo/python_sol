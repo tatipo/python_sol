{
 "cells": [
  {
   "cell_type": "code",
   "execution_count": 1,
   "id": "otherwise-pursuit",
   "metadata": {},
   "outputs": [],
   "source": [
    "import animals.harmless, animals.dangerous"
   ]
  },
  {
   "cell_type": "code",
   "execution_count": 2,
   "id": "cutting-bottle",
   "metadata": {},
   "outputs": [
    {
     "name": "stdout",
     "output_type": "stream",
     "text": [
      "Printing members of the Birds class\n",
      "\tSparrow \n",
      "\tRobin \n",
      "\tDuck \n"
     ]
    }
   ],
   "source": [
    "harmless_bird = animals.harmless.Birds()\n",
    "harmless_bird.printMembers()"
   ]
  },
  {
   "cell_type": "code",
   "execution_count": 3,
   "id": "infectious-happiness",
   "metadata": {},
   "outputs": [
    {
     "name": "stdout",
     "output_type": "stream",
     "text": [
      "Printing members of the Fish class\n",
      "\tShark \n",
      "\tOrca \n",
      "\tPiranja \n"
     ]
    }
   ],
   "source": [
    "dangerous_fish = animals.dangerous.Fish()\n",
    "dangerous_fish.printMembers()"
   ]
  },
  {
   "cell_type": "code",
   "execution_count": null,
   "id": "golden-talent",
   "metadata": {},
   "outputs": [],
   "source": []
  }
 ],
 "metadata": {
  "kernelspec": {
   "display_name": "Python 3",
   "language": "python",
   "name": "python3"
  },
  "language_info": {
   "codemirror_mode": {
    "name": "ipython",
    "version": 3
   },
   "file_extension": ".py",
   "mimetype": "text/x-python",
   "name": "python",
   "nbconvert_exporter": "python",
   "pygments_lexer": "ipython3",
   "version": "3.8.5"
  }
 },
 "nbformat": 4,
 "nbformat_minor": 5
}
