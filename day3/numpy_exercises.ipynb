{
 "cells": [
  {
   "cell_type": "code",
   "execution_count": 1,
   "id": "pharmaceutical-individual",
   "metadata": {},
   "outputs": [],
   "source": [
    "import numpy as np"
   ]
  },
  {
   "cell_type": "code",
   "execution_count": 4,
   "id": "fuzzy-institution",
   "metadata": {},
   "outputs": [
    {
     "name": "stdout",
     "output_type": "stream",
     "text": [
      "[0. 0. 0. 0. 1. 0. 0. 0. 0. 0.]\n"
     ]
    }
   ],
   "source": [
    "#Create a null vector of size 10 but the fifth value which is 1\n",
    "a=np.zeros(10)\n",
    "a[4]=1\n",
    "\n",
    "print(a)"
   ]
  },
  {
   "cell_type": "code",
   "execution_count": 12,
   "id": "architectural-vacation",
   "metadata": {},
   "outputs": [
    {
     "name": "stdout",
     "output_type": "stream",
     "text": [
      "[24 12 42 37 44 47 49 31 27 16]\n"
     ]
    }
   ],
   "source": [
    "#Create a vector with values ranging from 10 to 49\n",
    "b=np.random.randint(10,50, size=10)\n",
    "\n",
    "print(b)"
   ]
  },
  {
   "cell_type": "code",
   "execution_count": 24,
   "id": "written-speaking",
   "metadata": {},
   "outputs": [
    {
     "name": "stdout",
     "output_type": "stream",
     "text": [
      "[10  5  1]\n"
     ]
    }
   ],
   "source": [
    "#Reverse a vector (first element becomes last)\n",
    "c=np.array((1,5,10))\n",
    "c=c[::-1]\n",
    "\n",
    "print(c)"
   ]
  },
  {
   "cell_type": "code",
   "execution_count": 25,
   "id": "scenic-assistant",
   "metadata": {},
   "outputs": [
    {
     "name": "stdout",
     "output_type": "stream",
     "text": [
      "[[7 1 5]\n",
      " [0 4 8]\n",
      " [2 8 3]]\n"
     ]
    }
   ],
   "source": [
    "#Create a 3x3 matrix with values ranging from 0 to 8\n",
    "d=np.random.randint(0,9, (3,3))\n",
    "\n",
    "print(d)"
   ]
  },
  {
   "cell_type": "code",
   "execution_count": 31,
   "id": "supposed-cargo",
   "metadata": {},
   "outputs": [
    {
     "name": "stdout",
     "output_type": "stream",
     "text": [
      "(array([0, 1, 4]),)\n"
     ]
    }
   ],
   "source": [
    "#Find indices of non-zero elements from [1,2,0,0,4,0]\n",
    "e=np.array([1,2,0,0,4,0])\n",
    "ie=np.where(e!=0)\n",
    "\n",
    "print(ie)"
   ]
  },
  {
   "cell_type": "code",
   "execution_count": 36,
   "id": "exterior-worship",
   "metadata": {},
   "outputs": [
    {
     "name": "stdout",
     "output_type": "stream",
     "text": [
      "0.4965395709896475\n"
     ]
    }
   ],
   "source": [
    "#Create a random vector of size 30 and find the mean value\n",
    "f=np.random.rand(30)\n",
    "mf=np.mean(f)\n",
    "\n",
    "print(mf)"
   ]
  },
  {
   "cell_type": "code",
   "execution_count": 43,
   "id": "radical-financing",
   "metadata": {},
   "outputs": [
    {
     "name": "stdout",
     "output_type": "stream",
     "text": [
      "[[1. 1. 1. 1. 1.]\n",
      " [1. 0. 0. 0. 1.]\n",
      " [1. 0. 0. 0. 1.]\n",
      " [1. 0. 0. 0. 1.]\n",
      " [1. 1. 1. 1. 1.]]\n"
     ]
    }
   ],
   "source": [
    "#Create a 2d array with 1 on the border and 0 inside\n",
    "g=np.ones((5,5))\n",
    "g[1:-1,1:-1]=0;\n",
    "\n",
    "print(g)"
   ]
  },
  {
   "cell_type": "code",
   "execution_count": 69,
   "id": "demonstrated-gasoline",
   "metadata": {},
   "outputs": [
    {
     "name": "stdout",
     "output_type": "stream",
     "text": [
      "[[0. 1. 0. 1. 0. 1. 0. 1.]\n",
      " [1. 0. 1. 0. 1. 0. 1. 0.]\n",
      " [0. 1. 0. 1. 0. 1. 0. 1.]\n",
      " [1. 0. 1. 0. 1. 0. 1. 0.]\n",
      " [0. 1. 0. 1. 0. 1. 0. 1.]\n",
      " [1. 0. 1. 0. 1. 0. 1. 0.]\n",
      " [0. 1. 0. 1. 0. 1. 0. 1.]\n",
      " [1. 0. 1. 0. 1. 0. 1. 0.]]\n"
     ]
    }
   ],
   "source": [
    "#Create a 8x8 matrix and fill it with a checkerboard pattern\n",
    "h=np.zeros((8,8))\n",
    "h[1::2,0::2]=1;\n",
    "h[0::2,1::2]=1;\n",
    "\n",
    "print(h)"
   ]
  },
  {
   "cell_type": "code",
   "execution_count": 71,
   "id": "ruled-attitude",
   "metadata": {},
   "outputs": [
    {
     "name": "stdout",
     "output_type": "stream",
     "text": [
      "[[0. 1. 0. ... 1. 0. 1.]\n",
      " [1. 0. 1. ... 0. 1. 0.]\n",
      " [0. 1. 0. ... 1. 0. 1.]\n",
      " ...\n",
      " [1. 0. 1. ... 0. 1. 0.]\n",
      " [0. 1. 0. ... 1. 0. 1.]\n",
      " [1. 0. 1. ... 0. 1. 0.]]\n"
     ]
    }
   ],
   "source": [
    "#Create a checkerboard 8x8 matrix using the tile function\n",
    "i=np.tile(h,(8,8))\n",
    "\n",
    "print(i)"
   ]
  },
  {
   "cell_type": "code",
   "execution_count": 97,
   "id": "following-utility",
   "metadata": {},
   "outputs": [
    {
     "name": "stdout",
     "output_type": "stream",
     "text": [
      "[ 0  1  2 -3 -4 -5 -6 -7 -8  9 10]\n"
     ]
    }
   ],
   "source": [
    "#Given a 1D array, negate all elements which are between 3 and 8, in place\n",
    "Z = np.arange(11)\n",
    "Z=np.where((Z>2)&(Z<9),Z*-1,Z)\n",
    "\n",
    "print(Z)"
   ]
  },
  {
   "cell_type": "code",
   "execution_count": 100,
   "id": "indoor-springer",
   "metadata": {},
   "outputs": [
    {
     "name": "stdout",
     "output_type": "stream",
     "text": [
      "[0.08010147 0.14207644 0.32521184 0.50348789 0.51062331 0.52875453\n",
      " 0.62198626 0.783942   0.87392731 0.95912956]\n"
     ]
    }
   ],
   "source": [
    "# Create a random vector of size 10 and sort it\n",
    "Z = np.random.random(10)\n",
    "Z = np.sort(Z)\n",
    "print(Z)"
   ]
  },
  {
   "cell_type": "code",
   "execution_count": 104,
   "id": "removed-camel",
   "metadata": {},
   "outputs": [
    {
     "name": "stdout",
     "output_type": "stream",
     "text": [
      "[False  True  True  True False]\n"
     ]
    }
   ],
   "source": [
    "#Consider two random array A anb B, check if they are equal\n",
    "A = np.random.randint(0,2,5)\n",
    "B = np.random.randint(0,2,5)\n",
    "equal=np.equal(A,B)\n",
    "print(equal)"
   ]
  },
  {
   "cell_type": "code",
   "execution_count": 114,
   "id": "peaceful-strip",
   "metadata": {},
   "outputs": [
    {
     "name": "stdout",
     "output_type": "stream",
     "text": [
      "int32\n",
      "float32\n"
     ]
    }
   ],
   "source": [
    "#How to convert an integer (32 bits) array into a float (32 bits) in place?\n",
    "Z = np.arange(10, dtype=np.int32)\n",
    "print(Z.dtype)\n",
    "Z = np.arange(10,dtype=np.float32)\n",
    "print(Z.dtype)"
   ]
  },
  {
   "cell_type": "code",
   "execution_count": 119,
   "id": "noted-proceeding",
   "metadata": {},
   "outputs": [
    {
     "name": "stdout",
     "output_type": "stream",
     "text": [
      "[ 18  66 132]\n",
      "[[ 18  21  24]\n",
      " [ 54  66  78]\n",
      " [ 90 111 132]]\n"
     ]
    }
   ],
   "source": [
    "#How to get the diagonal of a dot product?\n",
    "A = np.arange(9).reshape(3,3)\n",
    "B = A + 1\n",
    "C = np.dot(A,B)\n",
    "D = np.diagonal(C)\n",
    "print(D)"
   ]
  },
  {
   "cell_type": "code",
   "execution_count": null,
   "id": "imported-respect",
   "metadata": {},
   "outputs": [],
   "source": []
  }
 ],
 "metadata": {
  "kernelspec": {
   "display_name": "Python 3",
   "language": "python",
   "name": "python3"
  },
  "language_info": {
   "codemirror_mode": {
    "name": "ipython",
    "version": 3
   },
   "file_extension": ".py",
   "mimetype": "text/x-python",
   "name": "python",
   "nbconvert_exporter": "python",
   "pygments_lexer": "ipython3",
   "version": "3.8.5"
  }
 },
 "nbformat": 4,
 "nbformat_minor": 5
}
